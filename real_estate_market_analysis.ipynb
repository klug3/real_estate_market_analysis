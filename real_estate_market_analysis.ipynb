{
 "cells": [
  {
   "cell_type": "markdown",
   "metadata": {},
   "source": [
    "# Technical part"
   ]
  },
  {
   "cell_type": "markdown",
   "metadata": {},
   "source": [
    "## Load data from csv to pandas dataframe"
   ]
  },
  {
   "cell_type": "code",
   "execution_count": 1,
   "metadata": {},
   "outputs": [],
   "source": [
    "import pandas as pd\n",
    "\n",
    "# Load data_categories as dataframe\n",
    "data_categories = pd.read_csv('.\\\\data\\\\raw\\\\data_categories.csv', index_col=False, delimiter = ';')\n",
    "\n",
    "# Load data_market_prices as dataframe\n",
    "data_market_prices = pd.read_csv('.\\\\data\\\\raw\\\\data_market_prices.csv', index_col=False, low_memory=False, delimiter = ',', dtype={'price':'Int64', 'price_per_sqm':'Int64'})\n",
    "\n",
    "# Load data_vas_purchases as dataframe\n",
    "data_vas_purchases = pd.read_csv('.\\\\data\\\\raw\\\\data_vas_purchases.csv', index_col=False, delimiter = ';')"
   ]
  },
  {
   "cell_type": "markdown",
   "metadata": {},
   "source": [
    "## Connect to MySQL server, create new database and necessary tables"
   ]
  },
  {
   "cell_type": "code",
   "execution_count": 2,
   "metadata": {},
   "outputs": [],
   "source": [
    "import pandas as pd\n",
    "from sqlalchemy import create_engine\n",
    "\n",
    "# Credentials to database connection\n",
    "hostname=\"localhost\"\n",
    "dbname=\"mydatabase\"\n",
    "uname=\"tomek\"\n",
    "pwd=\"tomek123\"\n",
    "\n",
    "# Connect to server\n",
    "engine = create_engine(\"mysql+pymysql://{user}:{pw}@{host}\"\n",
    "\t\t\t\t.format(user=uname, pw=pwd, host=hostname))\n",
    "\n",
    "# Remove database if exist\n",
    "engine.execute(\"DROP DATABASE IF EXISTS {db}\"\n",
    "                .format(db=dbname))\n",
    "\n",
    "# Create database\n",
    "engine.execute(\"CREATE DATABASE {db}\"\n",
    "                .format(db=dbname))\n",
    "\n",
    "# Select new database\n",
    "engine.execute(\"USE {db}\"\n",
    "                .format(db=dbname))\n",
    "\n",
    "# Drop tables if exist\n",
    "engine.execute(\"\"\"\n",
    "\t\t\t\t\tDROP TABLE IF EXISTS data_categories,data_market_prices,data_vas_purchases;\n",
    "\t\t\t\t\"\"\")\n",
    "\n",
    "# Convert dataframes to sql tables                                 \n",
    "data_categories.to_sql('data_categories', engine, index=False)\n",
    "data_market_prices.to_sql('data_market_prices', engine, index=False)\n",
    "data_vas_purchases.to_sql('data_vas_purchases', engine, index=False)\n",
    "\n",
    "# Rename original columns to save original values and create new columns with date-type data\n",
    "queries = (\"ALTER TABLE data_market_prices RENAME COLUMN date_posted TO date_posted_old;\",              # rename date_posted column to date_posted_old\n",
    "           \"ALTER TABLE data_market_prices RENAME COLUMN date_expired TO date_expired_old;\",            # rename date_expired column to date_expired_old\n",
    "           \"ALTER TABLE data_market_prices ADD date_posted DATE AFTER date_posted_old;\",                # create new date_posted column to store date-type data\n",
    "           \"ALTER TABLE data_market_prices ADD date_expired DATE AFTER date_expired_old;\",              # create new date_expired column to store date-type data\n",
    "           \"UPDATE data_market_prices SET date_posted = STR_TO_DATE(date_posted_old,'%%c/%%e/%%Y');\",   # fill new column with data \n",
    "           \"UPDATE data_market_prices SET date_expired = STR_TO_DATE(date_expired_old,'%%c/%%e/%%Y');\"  # fill new column with data\n",
    "            )\n",
    "\n",
    "for query in queries:\n",
    "    engine.execute(query)"
   ]
  },
  {
   "cell_type": "markdown",
   "metadata": {},
   "source": [
    "## Clean \"data_market_price\" data and export to csv file "
   ]
  },
  {
   "cell_type": "code",
   "execution_count": 3,
   "metadata": {},
   "outputs": [
    {
     "name": "stdout",
     "output_type": "stream",
     "text": [
      "CSV file successfully created!\n"
     ]
    }
   ],
   "source": [
    "import pandas as pd\n",
    "from sqlalchemy import create_engine\n",
    "\n",
    "# Credentials to database connection\n",
    "hostname=\"localhost\"\n",
    "dbname=\"mydatabase\"\n",
    "uname=\"tomek\"\n",
    "pwd=\"tomek123\"\n",
    "\n",
    "# Connect to server\n",
    "engine = create_engine(\"mysql+pymysql://{user}:{pw}@{host}/{db}\"\n",
    "\t\t\t\t.format(user=uname, pw=pwd, host=hostname, db=dbname))\n",
    "\n",
    "# Clean data: - omit rows with empty cell in any column\n",
    "#\t\t\t  - omit rows with unrealistically low price (<5000)\n",
    "#             - omit rows with unproperly inserted date values (date_posted is after date_expired)\n",
    "#             - omit rows out of range February and March 2021 and 2022 (keep only 2-3/2021 and 2-3/2022)\n",
    "# \t\t\t  - omit offers with the same ad_id (assumption: ad_id should be unique within dataset)\n",
    "#\t\t\t  - omit offers where price = price_per_sqm (1 sqm properties)\n",
    "#\t\t\t  - omit offers price_per_sqm is too low (lower or equal 5 in this case)\n",
    "clean_data_market_price = pd.read_sql(\"\"\"\n",
    "\t\t\t\t\t\t\t\t\t\tSELECT DISTINCT(ad_id), city_id, category_id, market, date_posted_old, date_expired_old, price_per_sqm, price, rooms_num\n",
    "\t\t\t\t\t\t\t\t\t\tFROM data_market_prices\n",
    "\t\t\t\t\t\t\t\t\t\tWHERE ad_id IS NOT NULL\n",
    "\t\t\t\t\t\t\t\t\t\t\tAND city_id IS NOT NULL\n",
    "\t\t\t\t\t\t\t\t\t\t\tAND category_id IS NOT NULL\n",
    "\t\t\t\t\t\t\t\t\t\t\tAND market IS NOT NULL\n",
    "\t\t\t\t\t\t\t\t\t\t\tAND date_posted_old IS NOT NULL\n",
    "\t\t\t\t\t\t\t\t\t\t\tAND date_expired_old IS NOT NULL\n",
    "\t\t\t\t\t\t\t\t\t\t\tAND price IS NOT NULL\n",
    "\t\t\t\t\t\t\t\t\t\t\tAND price >= 5000\n",
    "\t\t\t\t\t\t\t\t\t\t\tAND rooms_num IS NOT NULL\n",
    "\t\t\t\t\t\t\t\t\t\t\tAND price_per_sqm IS NOT NULL\n",
    "\t\t\t\t\t\t\t\t\t\t\tAND DATEDIFF(date_expired, date_posted) >= 0\n",
    "\t\t\t\t\t\t\t\t\t\t\tAND ((date_posted >= '2021-02-01' AND date_posted < '2021-04-01') OR (date_posted >= '2022-02-01' AND date_posted < '2022-04-01'))\n",
    "\t\t\t\t\t\t\t\t\t\t\tAND price != price_per_sqm\n",
    "\t\t\t\t\t\t\t\t\t\t\tAND price_per_sqm > 5\n",
    "\t\t\t\t\t\t\t\t\t\tGROUP BY ad_id;\n",
    "\t\t\t\t\t\t\t\t\t\"\"\", engine)\n",
    "\n",
    "# Export clean_data_market_price to csv file (but keep the same format as in initial dataset)\n",
    "\t# Rename original (suffix: _old) date_posted and date_expired columns\n",
    "clean_data_market_price = clean_data_market_price.rename(columns={'date_posted_old':'date_posted', 'date_expired_old':'date_expired'})\n",
    "\t# Export ready dataframe to csv file\n",
    "clean_data_market_price.to_csv('./data/processed/clean_data_market_price.csv', index=False, encoding='utf-8', sep=',')\n",
    "\n",
    "print(\"CSV file successfully created!\")"
   ]
  },
  {
   "cell_type": "markdown",
   "metadata": {},
   "source": [
    "# Analytical part"
   ]
  },
  {
   "cell_type": "markdown",
   "metadata": {},
   "source": [
    "## Analysis of \"data_market_prices\" dataset"
   ]
  },
  {
   "cell_type": "code",
   "execution_count": 4,
   "metadata": {},
   "outputs": [
    {
     "name": "stdout",
     "output_type": "stream",
     "text": [
      "(34985,)\n"
     ]
    }
   ],
   "source": [
    "import mysql.connector\n",
    "\n",
    "mydb = mysql.connector.connect(\n",
    "  host=\"localhost\",\n",
    "  user=\"tomek\",\n",
    "  password=\"tomek123\",\n",
    "  database=\"mydatabase\"\n",
    ")\n",
    "\n",
    "mycursor = mydb.cursor()\n",
    "\n",
    "# Define Common Table Expression (CTE) for clean data_market_prices to improve code readability\n",
    "# mp: data_Market_Prices table\n",
    "# cat: data_CATegories table\n",
    "clean_data_market_price_CTE = \"\"\"\n",
    "\t\t\t\t\t\t\t\tWITH clean_data_market_prices AS (SELECT DISTINCT (mp.ad_id), mp.city_id, mp.category_id, cat.category_name, cat.subcategory_name,\n",
    "\t\t\t\t\t\t\t\t\t\t\t\t\t\t\t\t\t\t mp.market, mp.date_posted, mp.date_expired, mp.price, mp.price_per_sqm, mp.rooms_num\n",
    "\t\t\t\t\t\t\t\t\t\t\t\t\t  \t\t\t  FROM data_market_prices mp\n",
    "\t\t\t\t\t\t\t\t\t\t\t\t\t  \t\t\t  INNER JOIN data_categories cat\n",
    "\t\t\t\t\t\t\t\t\t\t\t\t\t \t\t\t  ON mp.category_id = cat.category_id\n",
    "\t\t\t\t\t\t\t\t\t\t\t\t\t  \t\t\t  WHERE mp.ad_id IS NOT NULL\n",
    "\t\t\t\t\t\t\t\t\t\t\t\t\t\t\t\t\tAND mp.city_id IS NOT NULL\n",
    "\t\t\t\t\t\t\t\t\t\t\t\t\t\t\t\t\tAND mp.category_id IS NOT NULL\n",
    "\t\t\t\t\t\t\t\t\t\t\t\t\t\t\t\t\tAND mp.market IS NOT NULL\n",
    "\t\t\t\t\t\t\t\t\t\t\t\t\t\t\t\t\tAND mp.date_posted_old IS NOT NULL\n",
    "\t\t\t\t\t\t\t\t\t\t\t\t\t\t\t\t\tAND mp.date_expired_old IS NOT NULL\n",
    "\t\t\t\t\t\t\t\t\t\t\t\t\t\t\t\t\tAND mp.price IS NOT NULL\n",
    "\t\t\t\t\t\t\t\t\t\t\t\t\t\t\t\t\tAND mp.price >= 5000\n",
    "\t\t\t\t\t\t\t\t\t\t\t\t\t\t\t\t\tAND mp.rooms_num IS NOT NULL\n",
    "\t\t\t\t\t\t\t\t\t\t\t\t\t\t\t\t\tAND mp.price_per_sqm IS NOT NULL\n",
    "\t\t\t\t\t\t\t\t\t\t\t\t\t\t\t\t\tAND DATEDIFF(mp.date_expired, mp.date_posted) >= 0\n",
    "\t\t\t\t\t\t\t\t\t\t\t\t\t\t\t\t\tAND ((mp.date_posted >= '2021-02-01' AND mp.date_posted < '2021-04-01') OR (mp.date_posted >= '2022-02-01' AND mp.date_posted < '2022-04-01'))\n",
    "\t\t\t\t\t\t\t\t\t\t\t\t\t\t\t\t  \tAND mp.price_per_sqm != mp.price\n",
    "\t\t\t\t\t\t\t\t\t\t\t\t\t\t\t\t\tAND mp.price_per_sqm > 5\n",
    "\t\t\t\t\t\t\t\t\t\t\t\t\t\t\t\t  GROUP BY mp.ad_id)\n",
    "\t\t\t\t\t\t\t  \"\"\"\n",
    "\n",
    "# Check number of rows\n",
    "mycursor.execute(\"\"\"\n",
    "\t\t\t\t\t{CTE}\n",
    "\n",
    "\t\t\t\t\tSELECT COUNT(*)\n",
    "\t\t\t\t\tFROM clean_data_market_prices;\n",
    "\t\t\t\t\"\"\".format(CTE=clean_data_market_price_CTE))\n",
    "\n",
    "# Get output\n",
    "myresult = mycursor.fetchall()\n",
    "\n",
    "# Print output\n",
    "for x in myresult:\n",
    "  print(x)\n",
    "\n",
    "# OUTPUT COMMENT\n",
    "# Cleaned data_market_prices table consist of 34985 offers from February to March 2021 and 2022"
   ]
  },
  {
   "cell_type": "markdown",
   "metadata": {},
   "source": [
    "### Analyzes related to data cleansing"
   ]
  },
  {
   "cell_type": "code",
   "execution_count": 5,
   "metadata": {},
   "outputs": [
    {
     "name": "stdout",
     "output_type": "stream",
     "text": [
      "(34985,)\n"
     ]
    }
   ],
   "source": [
    "# Check if ad_id are unique values\n",
    "mycursor.execute(\"\"\"\n",
    "\t\t\t\t\t{CTE}\n",
    "\n",
    "\t\t\t\t\tSELECT COUNT(DISTINCT ad_id)\n",
    "\t\t\t\t\tFROM clean_data_market_prices;\n",
    "\t\t\t\t\"\"\".format(CTE=clean_data_market_price_CTE))\n",
    "\n",
    "# Get output\n",
    "myresult = mycursor.fetchall()\n",
    "\n",
    "# Print output\n",
    "for x in myresult:\n",
    "  print(x)\n",
    "\n",
    "# OUTPUT COMMENT\n",
    "# After cleansing all ad_ids are unique within dataset"
   ]
  },
  {
   "cell_type": "code",
   "execution_count": 6,
   "metadata": {},
   "outputs": [
    {
     "name": "stdout",
     "output_type": "stream",
     "text": [
      "(61506862, 26, 101, 'Sale', 'Apartments', 'secondary', datetime.date(2021, 2, 13), datetime.date(2021, 2, 13), 5000, 100, '2')\n",
      "(62739850, 1004, 101, 'Sale', 'Apartments', 'secondary', datetime.date(2022, 2, 6), datetime.date(2022, 3, 8), 5000, 59, '2')\n",
      "(62840215, 26, 101, 'Sale', 'Apartments', 'secondary', datetime.date(2022, 3, 4), datetime.date(2022, 4, 3), 5000, 93, '2')\n",
      "(62928769, 26, 101, 'Sale', 'Apartments', 'secondary', datetime.date(2022, 3, 29), datetime.date(2022, 3, 29), 5500, 54, '3')\n",
      "(62837906, 1004, 101, 'Sale', 'Apartments', 'secondary', datetime.date(2022, 3, 3), datetime.date(2022, 3, 18), 6000, 353, '1')\n",
      "(61458533, 26, 101, 'Sale', 'Apartments', 'secondary', datetime.date(2021, 2, 1), datetime.date(2021, 2, 1), 6200, 69, '4')\n",
      "(62924387, 26, 101, 'Sale', 'Apartments', 'secondary', datetime.date(2022, 3, 28), datetime.date(2022, 3, 31), 6500, 65, '3')\n",
      "(62901809, 1004, 101, 'Sale', 'Apartments', 'secondary', datetime.date(2022, 3, 21), datetime.date(2022, 4, 7), 8700, 121, '3')\n",
      "(62785351, 1004, 102, 'Rent', 'Apartments', 'secondary', datetime.date(2022, 2, 17), datetime.date(2022, 4, 18), 8700, 121, '3')\n",
      "(61612786, 1004, 102, 'Rent', 'Apartments', 'secondary', datetime.date(2021, 3, 11), datetime.date(2022, 4, 6), 10000, 556, '1')\n"
     ]
    }
   ],
   "source": [
    "# Check lowest prices to detect unrealistacally low prices\n",
    "mycursor.execute(\"\"\"\n",
    "\t\t\t\t\t{CTE}\n",
    "\n",
    "\t\t\t\t\tSELECT *\n",
    "\t\t\t\t\tFROM clean_data_market_prices\n",
    "                    ORDER BY price\n",
    "\t\t\t\t\tLIMIT 10;\n",
    "\t\t\t\t\"\"\".format(CTE=clean_data_market_price_CTE))\n",
    "\n",
    "# Get output\n",
    "myresult = mycursor.fetchall()\n",
    "\n",
    "# Print output\n",
    "for x in myresult:\n",
    "  print(x)\n",
    "\n",
    "# OUTPUT COMMENT\n",
    "# Real estate offers with prices below 5000 seem unreal. Better filter out those entries."
   ]
  },
  {
   "cell_type": "code",
   "execution_count": 7,
   "metadata": {},
   "outputs": [
    {
     "name": "stdout",
     "output_type": "stream",
     "text": [
      "(1100000, 253, 4347)\n",
      "(6500000, 3023, 2150)\n",
      "(3300000, 1650, 2000)\n",
      "(3789000, 1895, 1999)\n",
      "(15000000, 7700, 1948)\n",
      "(3000000, 1603, 1871)\n",
      "(950000, 679, 1399)\n",
      "(1290000, 989, 1304)\n",
      "(4500000, 3947, 1140)\n",
      "(750000, 682, 1099)\n"
     ]
    }
   ],
   "source": [
    "# Check the size of advertised properties and localize outliers\n",
    "mycursor.execute(\"\"\"\n",
    "\t\t\t\t\t{CTE}\n",
    "\n",
    "\t\t\t\t\tSELECT price, price_per_sqm, price/price_per_sqm DIV 1 as Total_sqms\n",
    "\t\t\t\t\tFROM clean_data_market_prices\n",
    "                    ORDER BY Total_sqms DESC\n",
    "\t\t\t\t\tLIMIT 10;\n",
    "\t\t\t\t\"\"\".format(CTE=clean_data_market_price_CTE))\n",
    "\n",
    "# Get output\n",
    "myresult = mycursor.fetchall()\n",
    "\n",
    "# Print output\n",
    "for x in myresult:\n",
    "  print(x)\n",
    "\n",
    "# OUTPUT COMMENT\n",
    "# Offers with size of the property less than 11 sqms (equal to 1 sqm) seem to be errors and should beommited in further analysis\n",
    "# Offers with price_per_sqm <= 5 (two offers with price_per_sqm 1 and 5) seem unreal and should be ommited in further analysis"
   ]
  },
  {
   "cell_type": "markdown",
   "metadata": {},
   "source": [
    "### Other analyzes"
   ]
  },
  {
   "cell_type": "code",
   "execution_count": 8,
   "metadata": {},
   "outputs": [
    {
     "name": "stdout",
     "output_type": "stream",
     "text": [
      "('Sale', 19024800, 5000, '773,058.21')\n",
      "('Rent', 22000, 8700, '15,425.00')\n"
     ]
    }
   ],
   "source": [
    "# Check max, min and average price of real estates based on category name\n",
    "mycursor.execute(\"\"\"\n",
    "\t\t\t\t\t{CTE}\n",
    "\n",
    "\t\t\t\t\tSELECT category_name, MAX(price), MIN(price), FORMAT(AVG(price), 2)\n",
    "\t\t\t\t\tFROM clean_data_market_prices\n",
    "\t\t\t\t\tGROUP BY category_name;\n",
    "\t\t\t\t\"\"\".format(CTE=clean_data_market_price_CTE))\n",
    "\n",
    "# Get output\n",
    "myresult = mycursor.fetchall()\n",
    "\n",
    "# Print output\n",
    "for x in myresult:\n",
    "  print(x)\n",
    "\n",
    "# OUTPUT COMMENT\n",
    "# The most expensive property for sale was appraised for 19024800, the cheapest for 5000 and the average price was 773,058.21.\n",
    "# The highest rent was 22000, the lowest 8700 and the average was 15,425.00."
   ]
  },
  {
   "cell_type": "code",
   "execution_count": 9,
   "metadata": {},
   "outputs": [
    {
     "name": "stdout",
     "output_type": "stream",
     "text": [
      "('Apartments', 19024800, 5000, '701,116.43')\n",
      "('Houses', 17500000, 29700, '1,804,402.53')\n"
     ]
    }
   ],
   "source": [
    "# Check max, min and average price of sale real estates offers based on subcategory name\n",
    "mycursor.execute(\"\"\"\n",
    "\t\t\t\t\t{CTE}\n",
    "\n",
    "\t\t\t\t\tSELECT subcategory_name, MAX(price), MIN(price), FORMAT(AVG(price), 2)\n",
    "\t\t\t\t\tFROM clean_data_market_prices\n",
    "                    WHERE category_name = 'Sale'\n",
    "\t\t\t\t\tGROUP BY subcategory_name;\n",
    "\t\t\t\t\"\"\".format(CTE=clean_data_market_price_CTE))\n",
    "\n",
    "# Get output\n",
    "myresult = mycursor.fetchall()\n",
    "\n",
    "# Print output\n",
    "for x in myresult:\n",
    "  print(x)\n",
    "\n",
    "# OUTPUT COMMENT\n",
    "# The most expensive Apartment for sale was appraised for 19024800, the cheapest for 5000 and the average price was 701,116.43.\n",
    "# The most expensive House for sale was appraised for 17500000, the cheapest for 29700 and the average price was 1,804,402.53."
   ]
  },
  {
   "cell_type": "code",
   "execution_count": 10,
   "metadata": {},
   "outputs": [
    {
     "name": "stdout",
     "output_type": "stream",
     "text": [
      "('Sale', 19024800, 5000, 701116, 'Apartments')\n",
      "('Rent', 22000, 8700, 15425, 'Apartments')\n",
      "('Sale', 17500000, 29700, 1804402, 'Houses')\n"
     ]
    }
   ],
   "source": [
    "# What differences do you see between the advertisement types in the data available? (what are the mean prices among real estate categories?)\n",
    "\n",
    "mycursor.execute(\"\"\"\n",
    "\t\t\t\t\t{CTE}\n",
    "\n",
    "\t\t\t\t\tSELECT category_name, MAX(price), MIN(price), AVG(price) DIV 1, subcategory_name\n",
    "\t\t\t\t\tFROM clean_data_market_prices\n",
    "                    GROUP BY category_name, subcategory_name;\n",
    "\t\t\t\t\"\"\".format(CTE=clean_data_market_price_CTE))\n",
    "\n",
    "# Get output\n",
    "myresult = mycursor.fetchall()\n",
    "\n",
    "# Print output\n",
    "for x in myresult:\n",
    "  print(x)\n",
    "\n",
    "# OUTPUT COMMENT\n",
    "# For Apartments subcategory the max, min and average prices are 19024800, 5000, 701116 respectively for 'Sale' offers and 22000, 8700, 15425 for 'Rent' offers.\n",
    "# For Apartments subcategory the max, min and average prices are 17500000, 29700, 1804402 respectively and 'Rent' offers are not present within dataset."
   ]
  },
  {
   "cell_type": "code",
   "execution_count": 11,
   "metadata": {},
   "outputs": [
    {
     "name": "stdout",
     "output_type": "stream",
     "text": [
      "('Apartments', 241095, 54, '12,177.27')\n",
      "('Houses', 85059, 253, '8,128.33')\n"
     ]
    }
   ],
   "source": [
    "# Check max, min and average price of sqare meter for sell offers grouped by subcategory name\n",
    "mycursor.execute(\"\"\"\n",
    "\t\t\t\t\t{CTE}\n",
    "\n",
    "\t\t\t\t\tSELECT subcategory_name, MAX(price_per_sqm), MIN(price_per_sqm), FORMAT(AVG(price_per_sqm), 2)\n",
    "\t\t\t\t\tFROM clean_data_market_prices\n",
    "                    WHERE category_name = 'Sale'\n",
    "\t\t\t\t\tGROUP BY subcategory_name;\n",
    "\t\t\t\t\"\"\".format(CTE=clean_data_market_price_CTE))\n",
    "\n",
    "# Get output\n",
    "myresult = mycursor.fetchall()\n",
    "\n",
    "# Print output\n",
    "for x in myresult:\n",
    "  print(x)\n",
    "\n",
    "# OUTPUT COMMENT\n",
    "# For advertised Apartments the higest price per sqm was 241095 the lowest 54 and average was 12,177.27.\n",
    "# For advertised Houses the higest price per sqm was 85059 the lowest 253 and average was 8,128.33."
   ]
  },
  {
   "cell_type": "code",
   "execution_count": 12,
   "metadata": {},
   "outputs": [
    {
     "name": "stdout",
     "output_type": "stream",
     "text": [
      "(26, 29442)\n",
      "(1004, 5543)\n"
     ]
    }
   ],
   "source": [
    "# Check real estate ads distribution based on the city_id\n",
    "mycursor.execute(\"\"\"\n",
    "\t\t\t\t\t{CTE}\n",
    "\n",
    "\t\t\t\t\tSELECT city_id, COUNT(*)\n",
    "\t\t\t\t\tFROM clean_data_market_prices\n",
    "\t\t\t\t\tGROUP BY city_id;\n",
    "\t\t\t\t\"\"\".format(CTE=clean_data_market_price_CTE))\n",
    "\n",
    "# Get output\n",
    "myresult = mycursor.fetchall()\n",
    "\n",
    "# Print output\n",
    "for x in myresult:\n",
    "  print(x)\n",
    "\n",
    "# OUTPUT COMMENT\n",
    "# The ads cover to two cities: with id 26 and 1004. The first one covers more offers (near 6 tmes more, 29442 ads) than the other one (5543 ads). "
   ]
  },
  {
   "cell_type": "code",
   "execution_count": 13,
   "metadata": {},
   "outputs": [
    {
     "name": "stdout",
     "output_type": "stream",
     "text": [
      "('Sale', 34981)\n",
      "('Rent', 4)\n"
     ]
    }
   ],
   "source": [
    "# Count real estate ads distribution based on the category_name column\n",
    "mycursor.execute(\"\"\"\n",
    "\t\t\t\t\t{CTE}\n",
    "\n",
    "\t\t\t\t\tSELECT category_name, COUNT(*)\n",
    "\t\t\t\t\tFROM clean_data_market_prices\n",
    "          \t\t\tGROUP BY category_name;\n",
    "\t\t\t\t\"\"\".format(CTE=clean_data_market_price_CTE))\n",
    "\n",
    "# Get output\n",
    "myresult = mycursor.fetchall()\n",
    "\n",
    "# Print output\n",
    "for x in myresult:\n",
    "  print(x)\n",
    "\n",
    "# OUTPUT COMMENT\n",
    "# The majority of the offers (34981 out of 34985) are related to sale of the real estate ; only a few (4) are rent offers."
   ]
  },
  {
   "cell_type": "code",
   "execution_count": 14,
   "metadata": {},
   "outputs": [
    {
     "name": "stdout",
     "output_type": "stream",
     "text": [
      "('Apartments', 32704)\n",
      "('Houses', 2281)\n"
     ]
    }
   ],
   "source": [
    "# Count real estate ads distribution based on the subcategory_name column\n",
    "mycursor.execute(\"\"\"\n",
    "\t\t\t\t\t{CTE}\n",
    "\n",
    "\t\t\t\t\tSELECT subcategory_name, COUNT(*)\n",
    "\t\t\t\t\tFROM clean_data_market_prices\n",
    "          \t\t\tGROUP BY subcategory_name;\n",
    "\t\t\t\t\"\"\".format(CTE=clean_data_market_price_CTE))\n",
    "\n",
    "# Get output\n",
    "myresult = mycursor.fetchall()\n",
    "\n",
    "# Print output\n",
    "for x in myresult:\n",
    "  print(x)\n",
    "\n",
    "# OUTPUT COMMENT\n",
    "# The majority (32704 out of 34985) of the advertised real estates are Apartments, 2281 are Houses."
   ]
  },
  {
   "cell_type": "code",
   "execution_count": 15,
   "metadata": {},
   "outputs": [
    {
     "name": "stdout",
     "output_type": "stream",
     "text": [
      "('secondary', 'Houses', '03', '2022', 580)\n",
      "('secondary', 'Houses', '02', '2022', 495)\n",
      "('primary', 'Houses', '03', '2022', 267)\n",
      "('primary', 'Houses', '02', '2022', 311)\n",
      "('secondary', 'Houses', '02', '2021', 220)\n",
      "('primary', 'Houses', '02', '2021', 191)\n",
      "('primary', 'Houses', '03', '2021', 114)\n",
      "('secondary', 'Houses', '03', '2021', 103)\n"
     ]
    }
   ],
   "source": [
    "# Count real estate ads distribution based on the market, subcategory and posted date (year)\n",
    "mycursor.execute(\"\"\"\n",
    "\t\t\t\t\t{CTE}\n",
    "\n",
    "\t\t\t\t\tSELECT market, subcategory_name, DATE_FORMAT(date_posted, '%m'), DATE_FORMAT(date_posted, '%Y'), COUNT(*)\n",
    "\t\t\t\t\tFROM clean_data_market_prices\n",
    "                    WHERE subcategory_name = 'Houses'\n",
    "          \t\t\tGROUP BY market, subcategory_name, DATE_FORMAT(date_posted, '%Y'), DATE_FORMAT(date_posted, '%m');\n",
    "\t\t\t\t\"\"\".format(CTE=clean_data_market_price_CTE))\n",
    "\n",
    "# Get output\n",
    "myresult = mycursor.fetchall()\n",
    "\n",
    "# Print output\n",
    "for x in myresult:\n",
    "  print(x)\n",
    "\n",
    "# OUTPUT COMMENT\n",
    "# "
   ]
  },
  {
   "cell_type": "code",
   "execution_count": 16,
   "metadata": {},
   "outputs": [
    {
     "name": "stdout",
     "output_type": "stream",
     "text": [
      "('primary', 3677)\n",
      "('secondary', 6101)\n"
     ]
    }
   ],
   "source": [
    "# Count real estate ads distribution based on the market column\n",
    "mycursor.execute(\"\"\"\n",
    "\t\t\t\t\t{CTE}\n",
    "\n",
    "\t\t\t\t\tSELECT market, COUNT(*)\n",
    "\t\t\t\t\tFROM clean_data_market_prices\n",
    "                    WHERE DATE_FORMAT(date_posted, '%Y') = 2021\n",
    "          \t\t\tGROUP BY market;\n",
    "\t\t\t\t\"\"\".format(CTE=clean_data_market_price_CTE))\n",
    "\n",
    "# Get output\n",
    "myresult = mycursor.fetchall()\n",
    "\n",
    "# Print output\n",
    "for x in myresult:\n",
    "  print(x)\n",
    "\n",
    "# OUTPUT COMMENT\n",
    "# In both years (2021 and 2022) more offers were related to secondary market. "
   ]
  },
  {
   "cell_type": "code",
   "execution_count": 17,
   "metadata": {},
   "outputs": [
    {
     "name": "stdout",
     "output_type": "stream",
     "text": [
      "('2022/03', 13206)\n",
      "('2022/02', 12001)\n",
      "('2021/02', 7243)\n",
      "('2021/03', 2535)\n"
     ]
    }
   ],
   "source": [
    "# Check real estate ads distribution based on the date_posted column\n",
    "mycursor.execute(\"\"\"\n",
    "\t\t\t\t\t{CTE}\n",
    "\n",
    "\t\t\t\t\tSELECT DATE_FORMAT(date_posted, '%Y/%m'), COUNT(*)\n",
    "\t\t\t\t\tFROM clean_data_market_prices \n",
    "                    GROUP BY YEAR(date_posted), MONTH(date_posted);\n",
    "\t\t\t\t\"\"\".format(CTE=clean_data_market_price_CTE))\n",
    "\n",
    "# Get output\n",
    "myresult = mycursor.fetchall()\n",
    "\n",
    "# Print output\n",
    "for x in myresult:\n",
    "  print(x)\n",
    "\n",
    "# OUTPUT COMMENT\n",
    "# 72% ads were posted in 2022 which is more than twice as much as in according months in 2021.\n",
    "# Offers from 2022 are nearly equally distributed between Fabruary and March.\n",
    "# Offers from 2021 covers mainly Fabruary (74% offers)."
   ]
  },
  {
   "cell_type": "code",
   "execution_count": 18,
   "metadata": {},
   "outputs": [
    {
     "name": "stdout",
     "output_type": "stream",
     "text": [
      "('2022', 25911)\n",
      "('2021', 9074)\n"
     ]
    }
   ],
   "source": [
    "# Check in which year more offers expired\n",
    "mycursor.execute(\"\"\"\n",
    "\t\t\t\t\t{CTE}\n",
    "\n",
    "\t\t\t\t\t          SELECT DATE_FORMAT(date_expired, '%Y'), COUNT(*)\n",
    "\t\t\t\t\t          FROM clean_data_market_prices\n",
    "                    \t\t  GROUP BY YEAR(date_expired);\n",
    "\t\t\t\t\"\"\".format(CTE=clean_data_market_price_CTE))\n",
    "\n",
    "# Get output\n",
    "myresult = mycursor.fetchall()\n",
    "\n",
    "# Print output\n",
    "for x in myresult:\n",
    "  print(x)\n",
    "\n",
    "# OUTPUT COMMENT\n",
    "# More than twice as many offers expired in 2022 compared to 2021 despite only half of the year 2022 passed.\n",
    "# Data should be intereprete with caution, because expired offer doesn't mean the real estate was successfully sold/rented."
   ]
  },
  {
   "cell_type": "code",
   "execution_count": 19,
   "metadata": {},
   "outputs": [
    {
     "name": "stdout",
     "output_type": "stream",
     "text": [
      "CSV file successfully created!\n"
     ]
    }
   ],
   "source": [
    "# Gather amount of posted offers for each day of each month\n",
    "\n",
    "posted_by_day = pd.read_sql(\"\"\"\n",
    "\t\t\t\t\t\t\t\t{CTE}\n",
    "\t\t\t\t\t        \tSELECT DATE_FORMAT(date_posted, '%%Y') AS Year, DATE_FORMAT(date_posted, '%%m') AS Month, DATE_FORMAT(date_posted, '%%d') AS Day, COUNT(*) AS Amount\n",
    "\t\t\t\t\t       \t \tFROM clean_data_market_prices\n",
    "\t\t\t\t\t\t\t\tGROUP BY YEAR(date_posted), MONTH(date_posted), DAY(date_posted);\n",
    "\t\t\t\t\t\t\t\"\"\".format(CTE=clean_data_market_price_CTE), engine)\n",
    "\n",
    "# Export to CSV for further use\n",
    "posted_by_day.to_csv('./data/processed/posted_by_day.csv', index=False, encoding='utf-8', sep=';')\n",
    "\n",
    "print(\"CSV file successfully created!\")\n",
    "\n",
    "# OUTPUT COMMENT\n",
    "# "
   ]
  },
  {
   "cell_type": "code",
   "execution_count": 20,
   "metadata": {},
   "outputs": [
    {
     "name": "stdout",
     "output_type": "stream",
     "text": [
      "CSV file successfully created!\n"
     ]
    }
   ],
   "source": [
    "# Gather amount of avg price per sqm for each day of each month\n",
    "\n",
    "avg_price_per_sqm_by_day = pd.read_sql(\"\"\"\n",
    "\t\t\t\t\t\t\t\t\t\t{CTE}\n",
    "\t\t\t\t\t        \t\t\tSELECT DATE_FORMAT(date_posted, '%%Y') AS Year, DATE_FORMAT(date_posted, '%%m') AS Month, DATE_FORMAT(date_posted, '%%d') AS Day, AVG(price_per_sqm) DIV 1 AS AVG_price_per_sqm\n",
    "\t\t\t\t\t        \t\t\tFROM clean_data_market_prices\n",
    "                            \t\t\tWHERE subcategory_name = 'Apartments'\n",
    "\t\t\t\t\t\t\t\t\t\tGROUP BY YEAR(date_posted), MONTH(date_posted), DAY(date_posted);\n",
    "\t\t\t\t\t\t\t\t\t\"\"\".format(CTE=clean_data_market_price_CTE), engine)\n",
    "\n",
    "# Export to CSV for further use\n",
    "avg_price_per_sqm_by_day.to_csv('./data/processed/avg_price_per_sqm_by_day.csv', index=False, encoding='utf-8', sep=';')\n",
    "\n",
    "print(\"CSV file successfully created!\")\n",
    "\n",
    "# OUTPUT COMMENT\n",
    "# "
   ]
  },
  {
   "cell_type": "markdown",
   "metadata": {},
   "source": [
    "### Data structure of \"data_market_prices\" dataset analysis using pandas package"
   ]
  },
  {
   "cell_type": "code",
   "execution_count": 21,
   "metadata": {},
   "outputs": [
    {
     "data": {
      "text/html": [
       "<div>\n",
       "<style scoped>\n",
       "    .dataframe tbody tr th:only-of-type {\n",
       "        vertical-align: middle;\n",
       "    }\n",
       "\n",
       "    .dataframe tbody tr th {\n",
       "        vertical-align: top;\n",
       "    }\n",
       "\n",
       "    .dataframe thead th {\n",
       "        text-align: right;\n",
       "    }\n",
       "</style>\n",
       "<table border=\"1\" class=\"dataframe\">\n",
       "  <thead>\n",
       "    <tr style=\"text-align: right;\">\n",
       "      <th></th>\n",
       "      <th>ad_id</th>\n",
       "      <th>city_id</th>\n",
       "      <th>category_id</th>\n",
       "      <th>market</th>\n",
       "      <th>date_posted</th>\n",
       "      <th>date_expired</th>\n",
       "      <th>price_per_sqm</th>\n",
       "      <th>price</th>\n",
       "      <th>rooms_num</th>\n",
       "    </tr>\n",
       "  </thead>\n",
       "  <tbody>\n",
       "    <tr>\n",
       "      <th>count</th>\n",
       "      <td>3.498500e+04</td>\n",
       "      <td>34985.000000</td>\n",
       "      <td>34985.000000</td>\n",
       "      <td>34985</td>\n",
       "      <td>34985</td>\n",
       "      <td>34985</td>\n",
       "      <td>34985.000000</td>\n",
       "      <td>3.498500e+04</td>\n",
       "      <td>34985</td>\n",
       "    </tr>\n",
       "    <tr>\n",
       "      <th>unique</th>\n",
       "      <td>NaN</td>\n",
       "      <td>NaN</td>\n",
       "      <td>NaN</td>\n",
       "      <td>2</td>\n",
       "      <td>117</td>\n",
       "      <td>281</td>\n",
       "      <td>NaN</td>\n",
       "      <td>NaN</td>\n",
       "      <td>11</td>\n",
       "    </tr>\n",
       "    <tr>\n",
       "      <th>top</th>\n",
       "      <td>NaN</td>\n",
       "      <td>NaN</td>\n",
       "      <td>NaN</td>\n",
       "      <td>secondary</td>\n",
       "      <td>3/22/2022</td>\n",
       "      <td>6/20/2022</td>\n",
       "      <td>NaN</td>\n",
       "      <td>NaN</td>\n",
       "      <td>2</td>\n",
       "    </tr>\n",
       "    <tr>\n",
       "      <th>freq</th>\n",
       "      <td>NaN</td>\n",
       "      <td>NaN</td>\n",
       "      <td>NaN</td>\n",
       "      <td>21807</td>\n",
       "      <td>1285</td>\n",
       "      <td>748</td>\n",
       "      <td>NaN</td>\n",
       "      <td>NaN</td>\n",
       "      <td>13193</td>\n",
       "    </tr>\n",
       "    <tr>\n",
       "      <th>mean</th>\n",
       "      <td>6.246818e+07</td>\n",
       "      <td>180.953666</td>\n",
       "      <td>107.520051</td>\n",
       "      <td>NaN</td>\n",
       "      <td>NaN</td>\n",
       "      <td>NaN</td>\n",
       "      <td>11911.949150</td>\n",
       "      <td>7.729716e+05</td>\n",
       "      <td>NaN</td>\n",
       "    </tr>\n",
       "    <tr>\n",
       "      <th>std</th>\n",
       "      <td>5.845792e+05</td>\n",
       "      <td>357.124197</td>\n",
       "      <td>24.688057</td>\n",
       "      <td>NaN</td>\n",
       "      <td>NaN</td>\n",
       "      <td>NaN</td>\n",
       "      <td>4617.425333</td>\n",
       "      <td>7.077298e+05</td>\n",
       "      <td>NaN</td>\n",
       "    </tr>\n",
       "    <tr>\n",
       "      <th>min</th>\n",
       "      <td>6.145507e+07</td>\n",
       "      <td>26.000000</td>\n",
       "      <td>101.000000</td>\n",
       "      <td>NaN</td>\n",
       "      <td>NaN</td>\n",
       "      <td>NaN</td>\n",
       "      <td>54.000000</td>\n",
       "      <td>5.000000e+03</td>\n",
       "      <td>NaN</td>\n",
       "    </tr>\n",
       "    <tr>\n",
       "      <th>25%</th>\n",
       "      <td>6.161044e+07</td>\n",
       "      <td>26.000000</td>\n",
       "      <td>101.000000</td>\n",
       "      <td>NaN</td>\n",
       "      <td>NaN</td>\n",
       "      <td>NaN</td>\n",
       "      <td>8900.000000</td>\n",
       "      <td>4.500000e+05</td>\n",
       "      <td>NaN</td>\n",
       "    </tr>\n",
       "    <tr>\n",
       "      <th>50%</th>\n",
       "      <td>6.278942e+07</td>\n",
       "      <td>26.000000</td>\n",
       "      <td>101.000000</td>\n",
       "      <td>NaN</td>\n",
       "      <td>NaN</td>\n",
       "      <td>NaN</td>\n",
       "      <td>11455.000000</td>\n",
       "      <td>6.000000e+05</td>\n",
       "      <td>NaN</td>\n",
       "    </tr>\n",
       "    <tr>\n",
       "      <th>75%</th>\n",
       "      <td>6.286386e+07</td>\n",
       "      <td>26.000000</td>\n",
       "      <td>101.000000</td>\n",
       "      <td>NaN</td>\n",
       "      <td>NaN</td>\n",
       "      <td>NaN</td>\n",
       "      <td>14000.000000</td>\n",
       "      <td>8.250000e+05</td>\n",
       "      <td>NaN</td>\n",
       "    </tr>\n",
       "    <tr>\n",
       "      <th>max</th>\n",
       "      <td>6.293654e+07</td>\n",
       "      <td>1004.000000</td>\n",
       "      <td>201.000000</td>\n",
       "      <td>NaN</td>\n",
       "      <td>NaN</td>\n",
       "      <td>NaN</td>\n",
       "      <td>241095.000000</td>\n",
       "      <td>1.902480e+07</td>\n",
       "      <td>NaN</td>\n",
       "    </tr>\n",
       "  </tbody>\n",
       "</table>\n",
       "</div>"
      ],
      "text/plain": [
       "               ad_id       city_id   category_id     market date_posted  \\\n",
       "count   3.498500e+04  34985.000000  34985.000000      34985       34985   \n",
       "unique           NaN           NaN           NaN          2         117   \n",
       "top              NaN           NaN           NaN  secondary   3/22/2022   \n",
       "freq             NaN           NaN           NaN      21807        1285   \n",
       "mean    6.246818e+07    180.953666    107.520051        NaN         NaN   \n",
       "std     5.845792e+05    357.124197     24.688057        NaN         NaN   \n",
       "min     6.145507e+07     26.000000    101.000000        NaN         NaN   \n",
       "25%     6.161044e+07     26.000000    101.000000        NaN         NaN   \n",
       "50%     6.278942e+07     26.000000    101.000000        NaN         NaN   \n",
       "75%     6.286386e+07     26.000000    101.000000        NaN         NaN   \n",
       "max     6.293654e+07   1004.000000    201.000000        NaN         NaN   \n",
       "\n",
       "       date_expired  price_per_sqm         price rooms_num  \n",
       "count         34985   34985.000000  3.498500e+04     34985  \n",
       "unique          281            NaN           NaN        11  \n",
       "top       6/20/2022            NaN           NaN         2  \n",
       "freq            748            NaN           NaN     13193  \n",
       "mean            NaN   11911.949150  7.729716e+05       NaN  \n",
       "std             NaN    4617.425333  7.077298e+05       NaN  \n",
       "min             NaN      54.000000  5.000000e+03       NaN  \n",
       "25%             NaN    8900.000000  4.500000e+05       NaN  \n",
       "50%             NaN   11455.000000  6.000000e+05       NaN  \n",
       "75%             NaN   14000.000000  8.250000e+05       NaN  \n",
       "max             NaN  241095.000000  1.902480e+07       NaN  "
      ]
     },
     "metadata": {},
     "output_type": "display_data"
    },
    {
     "data": {
      "text/html": [
       "<div>\n",
       "<style scoped>\n",
       "    .dataframe tbody tr th:only-of-type {\n",
       "        vertical-align: middle;\n",
       "    }\n",
       "\n",
       "    .dataframe tbody tr th {\n",
       "        vertical-align: top;\n",
       "    }\n",
       "\n",
       "    .dataframe thead th {\n",
       "        text-align: right;\n",
       "    }\n",
       "</style>\n",
       "<table border=\"1\" class=\"dataframe\">\n",
       "  <thead>\n",
       "    <tr style=\"text-align: right;\">\n",
       "      <th></th>\n",
       "      <th>ad_id</th>\n",
       "      <th>city_id</th>\n",
       "      <th>category_id</th>\n",
       "      <th>market</th>\n",
       "      <th>date_posted</th>\n",
       "      <th>date_expired</th>\n",
       "      <th>price_per_sqm</th>\n",
       "      <th>price</th>\n",
       "      <th>rooms_num</th>\n",
       "      <th>category_name</th>\n",
       "      <th>subcategory_name</th>\n",
       "    </tr>\n",
       "  </thead>\n",
       "  <tbody>\n",
       "    <tr>\n",
       "      <th>count</th>\n",
       "      <td>3.498500e+04</td>\n",
       "      <td>34985.000000</td>\n",
       "      <td>34985.000000</td>\n",
       "      <td>34985</td>\n",
       "      <td>34985</td>\n",
       "      <td>34985</td>\n",
       "      <td>34985.000000</td>\n",
       "      <td>3.498500e+04</td>\n",
       "      <td>34985</td>\n",
       "      <td>34985</td>\n",
       "      <td>34985</td>\n",
       "    </tr>\n",
       "    <tr>\n",
       "      <th>unique</th>\n",
       "      <td>NaN</td>\n",
       "      <td>NaN</td>\n",
       "      <td>NaN</td>\n",
       "      <td>2</td>\n",
       "      <td>117</td>\n",
       "      <td>281</td>\n",
       "      <td>NaN</td>\n",
       "      <td>NaN</td>\n",
       "      <td>11</td>\n",
       "      <td>2</td>\n",
       "      <td>2</td>\n",
       "    </tr>\n",
       "    <tr>\n",
       "      <th>top</th>\n",
       "      <td>NaN</td>\n",
       "      <td>NaN</td>\n",
       "      <td>NaN</td>\n",
       "      <td>secondary</td>\n",
       "      <td>3/22/2022</td>\n",
       "      <td>6/20/2022</td>\n",
       "      <td>NaN</td>\n",
       "      <td>NaN</td>\n",
       "      <td>2</td>\n",
       "      <td>Sale</td>\n",
       "      <td>Apartments</td>\n",
       "    </tr>\n",
       "    <tr>\n",
       "      <th>freq</th>\n",
       "      <td>NaN</td>\n",
       "      <td>NaN</td>\n",
       "      <td>NaN</td>\n",
       "      <td>21807</td>\n",
       "      <td>1285</td>\n",
       "      <td>748</td>\n",
       "      <td>NaN</td>\n",
       "      <td>NaN</td>\n",
       "      <td>13193</td>\n",
       "      <td>34981</td>\n",
       "      <td>32704</td>\n",
       "    </tr>\n",
       "    <tr>\n",
       "      <th>mean</th>\n",
       "      <td>6.246818e+07</td>\n",
       "      <td>180.953666</td>\n",
       "      <td>107.520051</td>\n",
       "      <td>NaN</td>\n",
       "      <td>NaN</td>\n",
       "      <td>NaN</td>\n",
       "      <td>11911.949150</td>\n",
       "      <td>7.729716e+05</td>\n",
       "      <td>NaN</td>\n",
       "      <td>NaN</td>\n",
       "      <td>NaN</td>\n",
       "    </tr>\n",
       "    <tr>\n",
       "      <th>std</th>\n",
       "      <td>5.845792e+05</td>\n",
       "      <td>357.124197</td>\n",
       "      <td>24.688057</td>\n",
       "      <td>NaN</td>\n",
       "      <td>NaN</td>\n",
       "      <td>NaN</td>\n",
       "      <td>4617.425333</td>\n",
       "      <td>7.077298e+05</td>\n",
       "      <td>NaN</td>\n",
       "      <td>NaN</td>\n",
       "      <td>NaN</td>\n",
       "    </tr>\n",
       "    <tr>\n",
       "      <th>min</th>\n",
       "      <td>6.145507e+07</td>\n",
       "      <td>26.000000</td>\n",
       "      <td>101.000000</td>\n",
       "      <td>NaN</td>\n",
       "      <td>NaN</td>\n",
       "      <td>NaN</td>\n",
       "      <td>54.000000</td>\n",
       "      <td>5.000000e+03</td>\n",
       "      <td>NaN</td>\n",
       "      <td>NaN</td>\n",
       "      <td>NaN</td>\n",
       "    </tr>\n",
       "    <tr>\n",
       "      <th>25%</th>\n",
       "      <td>6.161044e+07</td>\n",
       "      <td>26.000000</td>\n",
       "      <td>101.000000</td>\n",
       "      <td>NaN</td>\n",
       "      <td>NaN</td>\n",
       "      <td>NaN</td>\n",
       "      <td>8900.000000</td>\n",
       "      <td>4.500000e+05</td>\n",
       "      <td>NaN</td>\n",
       "      <td>NaN</td>\n",
       "      <td>NaN</td>\n",
       "    </tr>\n",
       "    <tr>\n",
       "      <th>50%</th>\n",
       "      <td>6.278942e+07</td>\n",
       "      <td>26.000000</td>\n",
       "      <td>101.000000</td>\n",
       "      <td>NaN</td>\n",
       "      <td>NaN</td>\n",
       "      <td>NaN</td>\n",
       "      <td>11455.000000</td>\n",
       "      <td>6.000000e+05</td>\n",
       "      <td>NaN</td>\n",
       "      <td>NaN</td>\n",
       "      <td>NaN</td>\n",
       "    </tr>\n",
       "    <tr>\n",
       "      <th>75%</th>\n",
       "      <td>6.286386e+07</td>\n",
       "      <td>26.000000</td>\n",
       "      <td>101.000000</td>\n",
       "      <td>NaN</td>\n",
       "      <td>NaN</td>\n",
       "      <td>NaN</td>\n",
       "      <td>14000.000000</td>\n",
       "      <td>8.250000e+05</td>\n",
       "      <td>NaN</td>\n",
       "      <td>NaN</td>\n",
       "      <td>NaN</td>\n",
       "    </tr>\n",
       "    <tr>\n",
       "      <th>max</th>\n",
       "      <td>6.293654e+07</td>\n",
       "      <td>1004.000000</td>\n",
       "      <td>201.000000</td>\n",
       "      <td>NaN</td>\n",
       "      <td>NaN</td>\n",
       "      <td>NaN</td>\n",
       "      <td>241095.000000</td>\n",
       "      <td>1.902480e+07</td>\n",
       "      <td>NaN</td>\n",
       "      <td>NaN</td>\n",
       "      <td>NaN</td>\n",
       "    </tr>\n",
       "  </tbody>\n",
       "</table>\n",
       "</div>"
      ],
      "text/plain": [
       "               ad_id       city_id   category_id     market date_posted  \\\n",
       "count   3.498500e+04  34985.000000  34985.000000      34985       34985   \n",
       "unique           NaN           NaN           NaN          2         117   \n",
       "top              NaN           NaN           NaN  secondary   3/22/2022   \n",
       "freq             NaN           NaN           NaN      21807        1285   \n",
       "mean    6.246818e+07    180.953666    107.520051        NaN         NaN   \n",
       "std     5.845792e+05    357.124197     24.688057        NaN         NaN   \n",
       "min     6.145507e+07     26.000000    101.000000        NaN         NaN   \n",
       "25%     6.161044e+07     26.000000    101.000000        NaN         NaN   \n",
       "50%     6.278942e+07     26.000000    101.000000        NaN         NaN   \n",
       "75%     6.286386e+07     26.000000    101.000000        NaN         NaN   \n",
       "max     6.293654e+07   1004.000000    201.000000        NaN         NaN   \n",
       "\n",
       "       date_expired  price_per_sqm         price rooms_num category_name  \\\n",
       "count         34985   34985.000000  3.498500e+04     34985         34985   \n",
       "unique          281            NaN           NaN        11             2   \n",
       "top       6/20/2022            NaN           NaN         2          Sale   \n",
       "freq            748            NaN           NaN     13193         34981   \n",
       "mean            NaN   11911.949150  7.729716e+05       NaN           NaN   \n",
       "std             NaN    4617.425333  7.077298e+05       NaN           NaN   \n",
       "min             NaN      54.000000  5.000000e+03       NaN           NaN   \n",
       "25%             NaN    8900.000000  4.500000e+05       NaN           NaN   \n",
       "50%             NaN   11455.000000  6.000000e+05       NaN           NaN   \n",
       "75%             NaN   14000.000000  8.250000e+05       NaN           NaN   \n",
       "max             NaN  241095.000000  1.902480e+07       NaN           NaN   \n",
       "\n",
       "       subcategory_name  \n",
       "count             34985  \n",
       "unique                2  \n",
       "top          Apartments  \n",
       "freq              32704  \n",
       "mean                NaN  \n",
       "std                 NaN  \n",
       "min                 NaN  \n",
       "25%                 NaN  \n",
       "50%                 NaN  \n",
       "75%                 NaN  \n",
       "max                 NaN  "
      ]
     },
     "metadata": {},
     "output_type": "display_data"
    }
   ],
   "source": [
    "from IPython.display import display\n",
    "\n",
    "display(clean_data_market_price.describe(include='all'))\n",
    "\n",
    "market_prices_with_categories = pd.merge(clean_data_market_price, data_categories,on='category_id',how='left')\n",
    "display(market_prices_with_categories.describe(include='all'))\n"
   ]
  },
  {
   "cell_type": "markdown",
   "metadata": {},
   "source": [
    "## Analysis of “data_vas_purchases” and “data_categories” datasets"
   ]
  },
  {
   "cell_type": "code",
   "execution_count": 22,
   "metadata": {},
   "outputs": [
    {
     "name": "stdout",
     "output_type": "stream",
     "text": [
      "(9458,)\n"
     ]
    }
   ],
   "source": [
    "import mysql.connector\n",
    "\n",
    "mydb = mysql.connector.connect(\n",
    "  host=\"localhost\",\n",
    "  user=\"tomek\",\n",
    "  password=\"tomek123\",\n",
    "  database=\"mydatabase\"\n",
    ")\n",
    "\n",
    "mycursor = mydb.cursor()\n",
    "\n",
    "# Define Common Table Expression (CTE) for clean data_market_prices to improve code readability\n",
    "# pur: data_vas_PURchases table\n",
    "# cat: data_CATegories table\n",
    "joined_data_vas_purchases_CTE = \"\"\"\n",
    "\t\t\t\t\t\t\t\t    WITH joined_data_vas_purchases AS (SELECT pur.date_day, pur.ad_id, pur.city_id, pur.category_id, pur.amount_spend_to_promote_ads, cat.category_name, cat.subcategory_name\n",
    "\t\t\t\t\t\t\t\t\t\t\t\t\t  \t\t\t  FROM data_vas_purchases pur\n",
    "\t\t\t\t\t\t\t\t\t\t\t\t\t  \t\t\t  INNER JOIN data_categories cat\n",
    "\t\t\t\t\t\t\t\t\t\t\t\t\t \t\t\t  ON pur.category_id = cat.category_id)\n",
    "\t\t\t\t\t\t\t  \t\"\"\"\n",
    "\n",
    "# Check number of rows\n",
    "mycursor.execute(\"\"\"\n",
    "\t\t\t\t\t{CTE}\n",
    "\n",
    "\t\t\t\t\tSELECT COUNT(*)\n",
    "\t\t\t\t\tFROM joined_data_vas_purchases;\n",
    "\t\t\t\t\"\"\".format(CTE=joined_data_vas_purchases_CTE))\n",
    "\n",
    "# Get output\n",
    "myresult = mycursor.fetchall()\n",
    "\n",
    "# Print output\n",
    "for x in myresult:\n",
    "  print(x)\n",
    "\n",
    "# OUTPUT COMMENT\n",
    "# Joined data_vas_purchases table consist of 9458 entries."
   ]
  },
  {
   "cell_type": "code",
   "execution_count": 23,
   "metadata": {},
   "outputs": [
    {
     "name": "stdout",
     "output_type": "stream",
     "text": [
      "(248901.72999998904,)\n"
     ]
    }
   ],
   "source": [
    "# Check how much was spent for promotional producs\n",
    "mycursor.execute(\"\"\"\n",
    "\t\t\t\t\t{CTE}\n",
    "\n",
    "\t\t\t\t\tSELECT SUM(amount_spend_to_promote_ads)\n",
    "\t\t\t\t\tFROM joined_data_vas_purchases;\n",
    "\t\t\t\t\"\"\".format(CTE=joined_data_vas_purchases_CTE))\n",
    "\n",
    "# Get output\n",
    "myresult = mycursor.fetchall()\n",
    "\n",
    "# Print output\n",
    "for x in myresult:\n",
    "  print(x)\n",
    "\n",
    "# OUTPUT COMMENT\n",
    "# Total of 248,901 PLN were spent for promotional producs."
   ]
  },
  {
   "cell_type": "code",
   "execution_count": 24,
   "metadata": {},
   "outputs": [
    {
     "name": "stdout",
     "output_type": "stream",
     "text": [
      "('Rent', 2832)\n",
      "('Sale', 6626)\n"
     ]
    }
   ],
   "source": [
    "# Check which real estate category is the most promoted one - amount of promotions\n",
    "mycursor.execute(\"\"\"\n",
    "\t\t\t\t\t{CTE}\n",
    "\n",
    "\t\t\t\t\tSELECT category_name, COUNT(*)\n",
    "\t\t\t\t\tFROM joined_data_vas_purchases\n",
    "\t\t\t\t\tGROUP BY category_name;\n",
    "\t\t\t\t\"\"\".format(CTE=joined_data_vas_purchases_CTE))\n",
    "\n",
    "# Get output\n",
    "myresult = mycursor.fetchall()\n",
    "\n",
    "# Print output\n",
    "for x in myresult:\n",
    "  print(x)\n",
    "\n",
    "# OUTPUT COMMENT\n",
    "# 6626 ad promotions were bought for Sale offers and 2832 for Rent offers."
   ]
  },
  {
   "cell_type": "code",
   "execution_count": 25,
   "metadata": {},
   "outputs": [
    {
     "name": "stdout",
     "output_type": "stream",
     "text": [
      "('Rent', 64477)\n",
      "('Sale', 184423)\n"
     ]
    }
   ],
   "source": [
    "# Check which real estate category is the most promoted one - value of promotions\n",
    "mycursor.execute(\"\"\"\n",
    "\t\t\t\t\t{CTE}\n",
    "\n",
    "\t\t\t\t\tSELECT category_name, SUM(amount_spend_to_promote_ads) DIV 1\n",
    "\t\t\t\t\tFROM joined_data_vas_purchases\n",
    "\t\t\t\t\tGROUP BY category_name;\n",
    "\t\t\t\t\"\"\".format(CTE=joined_data_vas_purchases_CTE))\n",
    "\n",
    "# Get output\n",
    "myresult = mycursor.fetchall()\n",
    "\n",
    "# Print output\n",
    "for x in myresult:\n",
    "  print(x)\n",
    "\n",
    "# OUTPUT COMMENT\n",
    "# Sale offers were promoted for 184.423 PLN whereas Rent offers for 64.477 PLN in summary."
   ]
  },
  {
   "cell_type": "code",
   "execution_count": 26,
   "metadata": {},
   "outputs": [
    {
     "name": "stdout",
     "output_type": "stream",
     "text": [
      "('Apartments', 8875)\n",
      "('Houses', 583)\n"
     ]
    }
   ],
   "source": [
    "# Check which real estate subcategory is the most promoted one - amount of promotions\n",
    "mycursor.execute(\"\"\"\n",
    "\t\t\t\t\t{CTE}\n",
    "\n",
    "\t\t\t\t\tSELECT subcategory_name, COUNT(*)\n",
    "\t\t\t\t\tFROM joined_data_vas_purchases\n",
    "\t\t\t\t\tGROUP BY subcategory_name;\n",
    "\t\t\t\t\"\"\".format(CTE=joined_data_vas_purchases_CTE))\n",
    "\n",
    "# Get output\n",
    "myresult = mycursor.fetchall()\n",
    "\n",
    "# Print output\n",
    "for x in myresult:\n",
    "  print(x)\n",
    "\n",
    "# OUTPUT COMMENT\n",
    "# 8875 ad promotions were bought for Apartments offers and 583 for Houses offers."
   ]
  },
  {
   "cell_type": "code",
   "execution_count": 27,
   "metadata": {},
   "outputs": [
    {
     "name": "stdout",
     "output_type": "stream",
     "text": [
      "('Apartments', 231824)\n",
      "('Houses', 17077)\n"
     ]
    }
   ],
   "source": [
    "# Check which real estate subcategory is the most promoted one - value of promotions\n",
    "mycursor.execute(\"\"\"\n",
    "\t\t\t\t\t{CTE}\n",
    "\n",
    "\t\t\t\t\tSELECT subcategory_name, SUM(amount_spend_to_promote_ads) DIV 1\n",
    "\t\t\t\t\tFROM joined_data_vas_purchases\n",
    "\t\t\t\t\tGROUP BY subcategory_name;\n",
    "\t\t\t\t\"\"\".format(CTE=joined_data_vas_purchases_CTE))\n",
    "\n",
    "# Get output\n",
    "myresult = mycursor.fetchall()\n",
    "\n",
    "# Print output\n",
    "for x in myresult:\n",
    "  print(x)\n",
    "\n",
    "# OUTPUT COMMENT\n",
    "# Apartments offers were promoted for 231.842 PLN whereas Rent offers for 17.077 PLN in summary."
   ]
  },
  {
   "cell_type": "code",
   "execution_count": 28,
   "metadata": {},
   "outputs": [
    {
     "name": "stdout",
     "output_type": "stream",
     "text": [
      "(26, 7870)\n",
      "(1004, 1588)\n"
     ]
    }
   ],
   "source": [
    "# Check in which city are  the most pormoted real estate - amount of promotions\n",
    "mycursor.execute(\"\"\"\n",
    "\t\t\t\t\t{CTE}\n",
    "\n",
    "\t\t\t\t\tSELECT city_id, COUNT(*)\n",
    "\t\t\t\t\tFROM joined_data_vas_purchases\n",
    "\t\t\t\t\tGROUP BY city_id;\n",
    "\t\t\t\t\"\"\".format(CTE=joined_data_vas_purchases_CTE))\n",
    "\n",
    "# Get output\n",
    "myresult = mycursor.fetchall()\n",
    "\n",
    "# Print output\n",
    "for x in myresult:\n",
    "  print(x)\n",
    "\n",
    "# OUTPUT COMMENT\n",
    "# 7870 (83%) ad promotions were bought for city_id 26 offers and 1588 for city_id 1004 offers."
   ]
  },
  {
   "cell_type": "code",
   "execution_count": 29,
   "metadata": {},
   "outputs": [
    {
     "name": "stdout",
     "output_type": "stream",
     "text": [
      "(26, 212991)\n",
      "(1004, 35910)\n"
     ]
    }
   ],
   "source": [
    "# Check in which city are  the most pormoted real estate - total value\n",
    "mycursor.execute(\"\"\"\n",
    "\t\t\t\t\t{CTE}\n",
    "\n",
    "\t\t\t\t\tSELECT city_id, SUM(amount_spend_to_promote_ads) DIV 1\n",
    "\t\t\t\t\tFROM joined_data_vas_purchases\n",
    "\t\t\t\t\tGROUP BY city_id;\n",
    "\t\t\t\t\"\"\".format(CTE=joined_data_vas_purchases_CTE))\n",
    "\n",
    "# Get output\n",
    "myresult = mycursor.fetchall()\n",
    "\n",
    "# Print output\n",
    "for x in myresult:\n",
    "  print(x)\n",
    "\n",
    "# OUTPUT COMMENT\n",
    "# 212,991 PLN was spent for promotional product of advertisements releted to city 26."
   ]
  },
  {
   "cell_type": "code",
   "execution_count": 30,
   "metadata": {},
   "outputs": [
    {
     "name": "stdout",
     "output_type": "stream",
     "text": [
      "('Rent', '2021', '02', 892)\n",
      "('Rent', '2021', '03', 1063)\n",
      "('Rent', '2022', '02', 452)\n",
      "('Rent', '2022', '03', 425)\n",
      "('Sale', '2021', '02', 1828)\n",
      "('Sale', '2021', '03', 2216)\n",
      "('Sale', '2022', '02', 1133)\n",
      "('Sale', '2022', '03', 1449)\n"
     ]
    }
   ],
   "source": [
    "# Check when promotional producs were most popular (amount)\n",
    "mycursor.execute(\"\"\"\n",
    "\t\t\t\t\t{CTE}\n",
    "\n",
    "\t\t\t\t\tSELECT category_name, DATE_FORMAT(date_day, '%Y'), DATE_FORMAT(date_day, '%m'), COUNT(*)\n",
    "\t\t\t\t\tFROM joined_data_vas_purchases\n",
    "\t\t\t\t\tGROUP BY YEAR(date_day), MONTH(date_day), category_name\n",
    "\t\t\t\t\tORDER BY category_name, date_day;\n",
    "\t\t\t\t\"\"\".format(CTE=joined_data_vas_purchases_CTE))\n",
    "\n",
    "# Get output\n",
    "myresult = mycursor.fetchall()\n",
    "\n",
    "# Print output\n",
    "for x in myresult:\n",
    "  print(x)\n",
    "\n",
    "# OUTPUT COMMENT\n",
    "# "
   ]
  },
  {
   "cell_type": "code",
   "execution_count": 31,
   "metadata": {},
   "outputs": [
    {
     "name": "stdout",
     "output_type": "stream",
     "text": [
      "('2021', '02', 2720)\n",
      "('2021', '03', 3279)\n",
      "('2022', '02', 1585)\n",
      "('2022', '03', 1874)\n"
     ]
    }
   ],
   "source": [
    "# Check when promotional producs were most popular (amount)\n",
    "mycursor.execute(\"\"\"\n",
    "\t\t\t\t\t{CTE}\n",
    "\n",
    "\t\t\t\t\tSELECT DATE_FORMAT(date_day, '%Y'), DATE_FORMAT(date_day, '%m'), COUNT(*)\n",
    "\t\t\t\t\tFROM joined_data_vas_purchases\n",
    "\t\t\t\t\tGROUP BY YEAR(date_day), MONTH(date_day)\n",
    "\t\t\t\t\tORDER BY  date_day;\n",
    "\t\t\t\t\"\"\".format(CTE=joined_data_vas_purchases_CTE))\n",
    "\n",
    "# Get output\n",
    "myresult = mycursor.fetchall()\n",
    "\n",
    "# Print output\n",
    "for x in myresult:\n",
    "  print(x)\n",
    "\n",
    "# OUTPUT COMMENT\n",
    "# "
   ]
  },
  {
   "cell_type": "code",
   "execution_count": 32,
   "metadata": {},
   "outputs": [
    {
     "name": "stdout",
     "output_type": "stream",
     "text": [
      "('2021', '02', 69526)\n",
      "('2021', '03', 88921)\n",
      "('2022', '02', 41007)\n",
      "('2022', '03', 49446)\n"
     ]
    }
   ],
   "source": [
    "# Check when promotional producs were most popular (total value)\n",
    "mycursor.execute(\"\"\"\n",
    "\t\t\t\t\t{CTE}\n",
    "\n",
    "\t\t\t\t\tSELECT DATE_FORMAT(date_day, '%Y'), DATE_FORMAT(date_day, '%m'), SUM(amount_spend_to_promote_ads) DIV 1\n",
    "\t\t\t\t\tFROM joined_data_vas_purchases\n",
    "\t\t\t\t\tGROUP BY YEAR(date_day), MONTH(date_day)\n",
    "\t\t\t\t\tORDER BY date_day;\n",
    "\t\t\t\t\"\"\".format(CTE=joined_data_vas_purchases_CTE))\n",
    "\n",
    "# Get output\n",
    "myresult = mycursor.fetchall()\n",
    "\n",
    "# Print output\n",
    "for x in myresult:\n",
    "  print(x)\n",
    "\n",
    "# OUTPUT COMMENT\n",
    "# "
   ]
  }
 ],
 "metadata": {
  "interpreter": {
   "hash": "be151a220c5d08149fecde5aa577470d7bc5dbee611d134e6f68c483d6f53f48"
  },
  "kernelspec": {
   "display_name": "Python 3.10.0 ('.venv': venv)",
   "language": "python",
   "name": "python3"
  },
  "language_info": {
   "codemirror_mode": {
    "name": "ipython",
    "version": 3
   },
   "file_extension": ".py",
   "mimetype": "text/x-python",
   "name": "python",
   "nbconvert_exporter": "python",
   "pygments_lexer": "ipython3",
   "version": "3.10.0"
  },
  "orig_nbformat": 4
 },
 "nbformat": 4,
 "nbformat_minor": 2
}
